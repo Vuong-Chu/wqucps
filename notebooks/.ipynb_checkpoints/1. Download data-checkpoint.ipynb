{
 "cells": [
  {
   "cell_type": "markdown",
   "metadata": {
    "id": "di2NmdChMqE4"
   },
   "source": [
    "# Data Collection"
   ]
  },
  {
   "cell_type": "markdown",
   "metadata": {
    "id": "kRz-csSFfl-3"
   },
   "source": [
    "### S&P 500"
   ]
  },
  {
   "cell_type": "code",
   "execution_count": 1,
   "metadata": {
    "id": "6qrAtSBaMmhh"
   },
   "outputs": [],
   "source": [
    "import yfinance as yf\n",
    "import pandas as pd\n",
    "from datetime import datetime"
   ]
  },
  {
   "cell_type": "code",
   "execution_count": 2,
   "metadata": {
    "colab": {
     "base_uri": "https://localhost:8080/",
     "height": 164
    },
    "id": "6mLszSCfMmj4",
    "outputId": "1e519b34-2cdf-44f7-9fae-12cede511d78"
   },
   "outputs": [
    {
     "data": {
      "text/html": [
       "<div>\n",
       "<style scoped>\n",
       "    .dataframe tbody tr th:only-of-type {\n",
       "        vertical-align: middle;\n",
       "    }\n",
       "\n",
       "    .dataframe tbody tr th {\n",
       "        vertical-align: top;\n",
       "    }\n",
       "\n",
       "    .dataframe thead th {\n",
       "        text-align: right;\n",
       "    }\n",
       "</style>\n",
       "<table border=\"1\" class=\"dataframe\">\n",
       "  <thead>\n",
       "    <tr style=\"text-align: right;\">\n",
       "      <th></th>\n",
       "      <th>Symbol</th>\n",
       "      <th>Security</th>\n",
       "      <th>GICS Sector</th>\n",
       "      <th>GICS Sub-Industry</th>\n",
       "      <th>Headquarters Location</th>\n",
       "      <th>Date added</th>\n",
       "      <th>CIK</th>\n",
       "      <th>Founded</th>\n",
       "    </tr>\n",
       "  </thead>\n",
       "  <tbody>\n",
       "    <tr>\n",
       "      <th>0</th>\n",
       "      <td>MMM</td>\n",
       "      <td>3M</td>\n",
       "      <td>Industrials</td>\n",
       "      <td>Industrial Conglomerates</td>\n",
       "      <td>Saint Paul, Minnesota</td>\n",
       "      <td>1957-03-04</td>\n",
       "      <td>66740</td>\n",
       "      <td>1902</td>\n",
       "    </tr>\n",
       "    <tr>\n",
       "      <th>1</th>\n",
       "      <td>AOS</td>\n",
       "      <td>A. O. Smith</td>\n",
       "      <td>Industrials</td>\n",
       "      <td>Building Products</td>\n",
       "      <td>Milwaukee, Wisconsin</td>\n",
       "      <td>2017-07-26</td>\n",
       "      <td>91142</td>\n",
       "      <td>1916</td>\n",
       "    </tr>\n",
       "  </tbody>\n",
       "</table>\n",
       "</div>"
      ],
      "text/plain": [
       "  Symbol     Security  GICS Sector         GICS Sub-Industry  \\\n",
       "0    MMM           3M  Industrials  Industrial Conglomerates   \n",
       "1    AOS  A. O. Smith  Industrials         Building Products   \n",
       "\n",
       "   Headquarters Location  Date added    CIK Founded  \n",
       "0  Saint Paul, Minnesota  1957-03-04  66740    1902  \n",
       "1   Milwaukee, Wisconsin  2017-07-26  91142    1916  "
      ]
     },
     "execution_count": 2,
     "metadata": {},
     "output_type": "execute_result"
    }
   ],
   "source": [
    "# @TODO: Check the history stock which already removed\n",
    "\n",
    "tickers = pd.read_html('https://en.wikipedia.org/wiki/List_of_S%26P_500_companies')[0]\n",
    "\n",
    "tickers.head(2)"
   ]
  },
  {
   "cell_type": "code",
   "execution_count": 3,
   "metadata": {
    "id": "89eWS1wzR-w4"
   },
   "outputs": [],
   "source": [
    "sp500 = tickers['Symbol'].to_list()"
   ]
  },
  {
   "cell_type": "code",
   "execution_count": 4,
   "metadata": {
    "colab": {
     "base_uri": "https://localhost:8080/"
    },
    "id": "NGskHTDdf_GA",
    "outputId": "36f898f7-ca32-4849-9cc4-4d32d21a7ba4"
   },
   "outputs": [
    {
     "name": "stderr",
     "output_type": "stream",
     "text": [
      "[**************        30%%                      ]  151 of 503 completed"
     ]
    },
    {
     "name": "stdout",
     "output_type": "stream",
     "text": [
      "$BF.B: possibly delisted; No price data found  (1d 2012-01-01 -> 2023-12-31)\n"
     ]
    },
    {
     "name": "stderr",
     "output_type": "stream",
     "text": [
      "[*********************100%%**********************]  503 of 503 completed\n",
      "\n",
      "4 Failed downloads:\n",
      "['BRK.B']: YFTzMissingError('$%ticker%: possibly delisted; No timezone found')\n",
      "['BF.B']: YFPricesMissingError('$%ticker%: possibly delisted; No price data found  (1d 2012-01-01 -> 2023-12-31)')\n",
      "['SOLV', 'GEV']: YFChartError(\"%ticker%: Data doesn't exist for startDate = 1325394000, endDate = 1703998800\")\n"
     ]
    }
   ],
   "source": [
    "start_date, end_date = '2012-01-01', '2023-12-31'\n",
    "data = yf.download(sp500, start=start_date, end=end_date)"
   ]
  },
  {
   "cell_type": "code",
   "execution_count": 5,
   "metadata": {
    "id": "X33ZeHBHTOj0"
   },
   "outputs": [],
   "source": [
    "selected_cols = ['Volume', 'Open', 'Close','Adj Close']\n",
    "data = data[selected_cols]"
   ]
  },
  {
   "cell_type": "code",
   "execution_count": 6,
   "metadata": {},
   "outputs": [
    {
     "data": {
      "text/html": [
       "<div>\n",
       "<style scoped>\n",
       "    .dataframe tbody tr th:only-of-type {\n",
       "        vertical-align: middle;\n",
       "    }\n",
       "\n",
       "    .dataframe tbody tr th {\n",
       "        vertical-align: top;\n",
       "    }\n",
       "\n",
       "    .dataframe thead tr th {\n",
       "        text-align: left;\n",
       "    }\n",
       "\n",
       "    .dataframe thead tr:last-of-type th {\n",
       "        text-align: right;\n",
       "    }\n",
       "</style>\n",
       "<table border=\"1\" class=\"dataframe\">\n",
       "  <thead>\n",
       "    <tr>\n",
       "      <th>Price</th>\n",
       "      <th colspan=\"10\" halign=\"left\">Volume</th>\n",
       "      <th>...</th>\n",
       "      <th colspan=\"10\" halign=\"left\">Adj Close</th>\n",
       "    </tr>\n",
       "    <tr>\n",
       "      <th>Ticker</th>\n",
       "      <th>A</th>\n",
       "      <th>AAL</th>\n",
       "      <th>AAPL</th>\n",
       "      <th>ABBV</th>\n",
       "      <th>ABNB</th>\n",
       "      <th>ABT</th>\n",
       "      <th>ACGL</th>\n",
       "      <th>ACN</th>\n",
       "      <th>ADBE</th>\n",
       "      <th>ADI</th>\n",
       "      <th>...</th>\n",
       "      <th>WTW</th>\n",
       "      <th>WY</th>\n",
       "      <th>WYNN</th>\n",
       "      <th>XEL</th>\n",
       "      <th>XOM</th>\n",
       "      <th>XYL</th>\n",
       "      <th>YUM</th>\n",
       "      <th>ZBH</th>\n",
       "      <th>ZBRA</th>\n",
       "      <th>ZTS</th>\n",
       "    </tr>\n",
       "    <tr>\n",
       "      <th>Date</th>\n",
       "      <th></th>\n",
       "      <th></th>\n",
       "      <th></th>\n",
       "      <th></th>\n",
       "      <th></th>\n",
       "      <th></th>\n",
       "      <th></th>\n",
       "      <th></th>\n",
       "      <th></th>\n",
       "      <th></th>\n",
       "      <th></th>\n",
       "      <th></th>\n",
       "      <th></th>\n",
       "      <th></th>\n",
       "      <th></th>\n",
       "      <th></th>\n",
       "      <th></th>\n",
       "      <th></th>\n",
       "      <th></th>\n",
       "      <th></th>\n",
       "      <th></th>\n",
       "    </tr>\n",
       "  </thead>\n",
       "  <tbody>\n",
       "    <tr>\n",
       "      <th>2012-01-03</th>\n",
       "      <td>4156394</td>\n",
       "      <td>6105900</td>\n",
       "      <td>302220800</td>\n",
       "      <td>NaN</td>\n",
       "      <td>NaN</td>\n",
       "      <td>17693206</td>\n",
       "      <td>2734200</td>\n",
       "      <td>5309600</td>\n",
       "      <td>4495100</td>\n",
       "      <td>3021500</td>\n",
       "      <td>...</td>\n",
       "      <td>81.378052</td>\n",
       "      <td>11.937037</td>\n",
       "      <td>84.431824</td>\n",
       "      <td>18.080517</td>\n",
       "      <td>52.190392</td>\n",
       "      <td>21.249552</td>\n",
       "      <td>33.166363</td>\n",
       "      <td>47.260010</td>\n",
       "      <td>35.720001</td>\n",
       "      <td>NaN</td>\n",
       "    </tr>\n",
       "    <tr>\n",
       "      <th>2012-01-04</th>\n",
       "      <td>4651845</td>\n",
       "      <td>5268700</td>\n",
       "      <td>260022000</td>\n",
       "      <td>NaN</td>\n",
       "      <td>NaN</td>\n",
       "      <td>13370154</td>\n",
       "      <td>2249100</td>\n",
       "      <td>4232100</td>\n",
       "      <td>3852400</td>\n",
       "      <td>1428000</td>\n",
       "      <td>...</td>\n",
       "      <td>80.916588</td>\n",
       "      <td>11.805789</td>\n",
       "      <td>82.979797</td>\n",
       "      <td>17.961481</td>\n",
       "      <td>52.202526</td>\n",
       "      <td>21.951113</td>\n",
       "      <td>33.392879</td>\n",
       "      <td>46.620422</td>\n",
       "      <td>35.450001</td>\n",
       "      <td>NaN</td>\n",
       "    </tr>\n",
       "    <tr>\n",
       "      <th>2012-01-05</th>\n",
       "      <td>6842651</td>\n",
       "      <td>8216100</td>\n",
       "      <td>271269600</td>\n",
       "      <td>NaN</td>\n",
       "      <td>NaN</td>\n",
       "      <td>13119425</td>\n",
       "      <td>2534400</td>\n",
       "      <td>5640900</td>\n",
       "      <td>2999500</td>\n",
       "      <td>2124300</td>\n",
       "      <td>...</td>\n",
       "      <td>82.321869</td>\n",
       "      <td>11.737043</td>\n",
       "      <td>82.113029</td>\n",
       "      <td>18.040842</td>\n",
       "      <td>52.044758</td>\n",
       "      <td>21.638371</td>\n",
       "      <td>33.647690</td>\n",
       "      <td>47.172390</td>\n",
       "      <td>35.400002</td>\n",
       "      <td>NaN</td>\n",
       "    </tr>\n",
       "    <tr>\n",
       "      <th>2012-01-06</th>\n",
       "      <td>4711400</td>\n",
       "      <td>8323000</td>\n",
       "      <td>318292800</td>\n",
       "      <td>NaN</td>\n",
       "      <td>NaN</td>\n",
       "      <td>11986244</td>\n",
       "      <td>1424400</td>\n",
       "      <td>5586600</td>\n",
       "      <td>5781700</td>\n",
       "      <td>3533000</td>\n",
       "      <td>...</td>\n",
       "      <td>81.629715</td>\n",
       "      <td>11.887037</td>\n",
       "      <td>79.223824</td>\n",
       "      <td>17.987930</td>\n",
       "      <td>51.656338</td>\n",
       "      <td>21.274914</td>\n",
       "      <td>33.891197</td>\n",
       "      <td>47.295033</td>\n",
       "      <td>35.110001</td>\n",
       "      <td>NaN</td>\n",
       "    </tr>\n",
       "    <tr>\n",
       "      <th>2012-01-09</th>\n",
       "      <td>4429563</td>\n",
       "      <td>8029900</td>\n",
       "      <td>394024400</td>\n",
       "      <td>NaN</td>\n",
       "      <td>NaN</td>\n",
       "      <td>10789496</td>\n",
       "      <td>704400</td>\n",
       "      <td>4966700</td>\n",
       "      <td>3514700</td>\n",
       "      <td>2593900</td>\n",
       "      <td>...</td>\n",
       "      <td>80.937599</td>\n",
       "      <td>11.743295</td>\n",
       "      <td>79.001579</td>\n",
       "      <td>18.001156</td>\n",
       "      <td>51.886982</td>\n",
       "      <td>21.359434</td>\n",
       "      <td>33.760952</td>\n",
       "      <td>47.645508</td>\n",
       "      <td>34.950001</td>\n",
       "      <td>NaN</td>\n",
       "    </tr>\n",
       "  </tbody>\n",
       "</table>\n",
       "<p>5 rows × 2012 columns</p>\n",
       "</div>"
      ],
      "text/plain": [
       "Price        Volume                                                            \\\n",
       "Ticker            A      AAL       AAPL ABBV ABNB       ABT     ACGL      ACN   \n",
       "Date                                                                            \n",
       "2012-01-03  4156394  6105900  302220800  NaN  NaN  17693206  2734200  5309600   \n",
       "2012-01-04  4651845  5268700  260022000  NaN  NaN  13370154  2249100  4232100   \n",
       "2012-01-05  6842651  8216100  271269600  NaN  NaN  13119425  2534400  5640900   \n",
       "2012-01-06  4711400  8323000  318292800  NaN  NaN  11986244  1424400  5586600   \n",
       "2012-01-09  4429563  8029900  394024400  NaN  NaN  10789496   704400  4966700   \n",
       "\n",
       "Price                         ...  Adj Close                                   \\\n",
       "Ticker         ADBE      ADI  ...        WTW         WY       WYNN        XEL   \n",
       "Date                          ...                                               \n",
       "2012-01-03  4495100  3021500  ...  81.378052  11.937037  84.431824  18.080517   \n",
       "2012-01-04  3852400  1428000  ...  80.916588  11.805789  82.979797  17.961481   \n",
       "2012-01-05  2999500  2124300  ...  82.321869  11.737043  82.113029  18.040842   \n",
       "2012-01-06  5781700  3533000  ...  81.629715  11.887037  79.223824  17.987930   \n",
       "2012-01-09  3514700  2593900  ...  80.937599  11.743295  79.001579  18.001156   \n",
       "\n",
       "Price                                                                  \n",
       "Ticker            XOM        XYL        YUM        ZBH       ZBRA ZTS  \n",
       "Date                                                                   \n",
       "2012-01-03  52.190392  21.249552  33.166363  47.260010  35.720001 NaN  \n",
       "2012-01-04  52.202526  21.951113  33.392879  46.620422  35.450001 NaN  \n",
       "2012-01-05  52.044758  21.638371  33.647690  47.172390  35.400002 NaN  \n",
       "2012-01-06  51.656338  21.274914  33.891197  47.295033  35.110001 NaN  \n",
       "2012-01-09  51.886982  21.359434  33.760952  47.645508  34.950001 NaN  \n",
       "\n",
       "[5 rows x 2012 columns]"
      ]
     },
     "execution_count": 6,
     "metadata": {},
     "output_type": "execute_result"
    }
   ],
   "source": [
    "data.head()"
   ]
  },
  {
   "cell_type": "code",
   "execution_count": 8,
   "metadata": {
    "id": "zZuI0LFnhFHx"
   },
   "outputs": [],
   "source": [
    "data.to_parquet('../data/raw/sp500.parquet')"
   ]
  },
  {
   "cell_type": "code",
   "execution_count": null,
   "metadata": {
    "id": "cQJSz6NTTB1l"
   },
   "outputs": [],
   "source": []
  },
  {
   "cell_type": "markdown",
   "metadata": {
    "id": "DwAnwmZSTeWj"
   },
   "source": [
    "### CSI300"
   ]
  },
  {
   "cell_type": "code",
   "execution_count": 9,
   "metadata": {
    "id": "F51YYNDFTgtj"
   },
   "outputs": [],
   "source": [
    "import pandas as pd"
   ]
  },
  {
   "cell_type": "code",
   "execution_count": 10,
   "metadata": {
    "colab": {
     "base_uri": "https://localhost:8080/",
     "height": 112
    },
    "id": "QR6b8v45TjKT",
    "outputId": "3339dbdd-7772-4636-ac70-e9959ff3c38f"
   },
   "outputs": [
    {
     "data": {
      "text/html": [
       "<div>\n",
       "<style scoped>\n",
       "    .dataframe tbody tr th:only-of-type {\n",
       "        vertical-align: middle;\n",
       "    }\n",
       "\n",
       "    .dataframe tbody tr th {\n",
       "        vertical-align: top;\n",
       "    }\n",
       "\n",
       "    .dataframe thead th {\n",
       "        text-align: right;\n",
       "    }\n",
       "</style>\n",
       "<table border=\"1\" class=\"dataframe\">\n",
       "  <thead>\n",
       "    <tr style=\"text-align: right;\">\n",
       "      <th></th>\n",
       "      <th>Ticker</th>\n",
       "      <th>Company</th>\n",
       "      <th>Segment</th>\n",
       "      <th>Exchange</th>\n",
       "      <th>Weighting (%)</th>\n",
       "    </tr>\n",
       "  </thead>\n",
       "  <tbody>\n",
       "    <tr>\n",
       "      <th>0</th>\n",
       "      <td>SSE: 600519</td>\n",
       "      <td>Kweichow Moutai</td>\n",
       "      <td>Consumer Staples</td>\n",
       "      <td>Shanghai</td>\n",
       "      <td>5.972</td>\n",
       "    </tr>\n",
       "    <tr>\n",
       "      <th>1</th>\n",
       "      <td>SSE: 601318</td>\n",
       "      <td>Ping An Insurance</td>\n",
       "      <td>Financials</td>\n",
       "      <td>Shanghai</td>\n",
       "      <td>2.590</td>\n",
       "    </tr>\n",
       "  </tbody>\n",
       "</table>\n",
       "</div>"
      ],
      "text/plain": [
       "        Ticker            Company           Segment  Exchange  Weighting (%)\n",
       "0  SSE: 600519    Kweichow Moutai  Consumer Staples  Shanghai          5.972\n",
       "1  SSE: 601318  Ping An Insurance        Financials  Shanghai          2.590"
      ]
     },
     "execution_count": 10,
     "metadata": {},
     "output_type": "execute_result"
    }
   ],
   "source": [
    "# @TODO: Check the history stock which already removed\n",
    "\n",
    "csi300_raw = pd.read_html('https://en.wikipedia.org/wiki/CSI_300_Index')[3]\n",
    "csi300_raw.head(2)"
   ]
  },
  {
   "cell_type": "code",
   "execution_count": 11,
   "metadata": {
    "id": "K-_zxQnoUVFz"
   },
   "outputs": [],
   "source": [
    "csi_tickers = csi300_raw['Ticker'].apply(\n",
    "    lambda x: x.strip('SSE: ') + '.SS' if x.startswith('SSE') else x.strip('SZSE: ') + '.SZ'\n",
    ").to_list()"
   ]
  },
  {
   "cell_type": "code",
   "execution_count": 12,
   "metadata": {
    "colab": {
     "base_uri": "https://localhost:8080/"
    },
    "id": "LuAYjdMJTo-2",
    "outputId": "7d725078-2279-4964-c129-888ad2bfc64f"
   },
   "outputs": [
    {
     "name": "stderr",
     "output_type": "stream",
     "text": [
      "[*********************100%%**********************]  300 of 300 completed\n"
     ]
    }
   ],
   "source": [
    "csi300 = yf.download(csi_tickers, start=start_date, end=end_date)"
   ]
  },
  {
   "cell_type": "code",
   "execution_count": 13,
   "metadata": {
    "id": "RRRlw7kXT9Lr"
   },
   "outputs": [],
   "source": [
    "selected_cols = ['Volume', 'Open', 'Close','Adj Close']\n",
    "csi300 = csi300[selected_cols]"
   ]
  },
  {
   "cell_type": "code",
   "execution_count": 14,
   "metadata": {},
   "outputs": [
    {
     "data": {
      "text/html": [
       "<div>\n",
       "<style scoped>\n",
       "    .dataframe tbody tr th:only-of-type {\n",
       "        vertical-align: middle;\n",
       "    }\n",
       "\n",
       "    .dataframe tbody tr th {\n",
       "        vertical-align: top;\n",
       "    }\n",
       "\n",
       "    .dataframe thead tr th {\n",
       "        text-align: left;\n",
       "    }\n",
       "\n",
       "    .dataframe thead tr:last-of-type th {\n",
       "        text-align: right;\n",
       "    }\n",
       "</style>\n",
       "<table border=\"1\" class=\"dataframe\">\n",
       "  <thead>\n",
       "    <tr>\n",
       "      <th>Price</th>\n",
       "      <th colspan=\"10\" halign=\"left\">Volume</th>\n",
       "      <th>...</th>\n",
       "      <th colspan=\"10\" halign=\"left\">Adj Close</th>\n",
       "    </tr>\n",
       "    <tr>\n",
       "      <th>Ticker</th>\n",
       "      <th>000001.SZ</th>\n",
       "      <th>000002.SZ</th>\n",
       "      <th>000063.SZ</th>\n",
       "      <th>000069.SZ</th>\n",
       "      <th>000100.SZ</th>\n",
       "      <th>000157.SZ</th>\n",
       "      <th>000166.SZ</th>\n",
       "      <th>000301.SZ</th>\n",
       "      <th>000333.SZ</th>\n",
       "      <th>000338.SZ</th>\n",
       "      <th>...</th>\n",
       "      <th>688187.SS</th>\n",
       "      <th>688223.SS</th>\n",
       "      <th>688256.SS</th>\n",
       "      <th>688271.SS</th>\n",
       "      <th>688303.SS</th>\n",
       "      <th>688363.SS</th>\n",
       "      <th>688396.SS</th>\n",
       "      <th>688561.SS</th>\n",
       "      <th>688599.SS</th>\n",
       "      <th>688981.SS</th>\n",
       "    </tr>\n",
       "    <tr>\n",
       "      <th>Date</th>\n",
       "      <th></th>\n",
       "      <th></th>\n",
       "      <th></th>\n",
       "      <th></th>\n",
       "      <th></th>\n",
       "      <th></th>\n",
       "      <th></th>\n",
       "      <th></th>\n",
       "      <th></th>\n",
       "      <th></th>\n",
       "      <th></th>\n",
       "      <th></th>\n",
       "      <th></th>\n",
       "      <th></th>\n",
       "      <th></th>\n",
       "      <th></th>\n",
       "      <th></th>\n",
       "      <th></th>\n",
       "      <th></th>\n",
       "      <th></th>\n",
       "      <th></th>\n",
       "    </tr>\n",
       "  </thead>\n",
       "  <tbody>\n",
       "    <tr>\n",
       "      <th>2012-01-04</th>\n",
       "      <td>40894427</td>\n",
       "      <td>47432958</td>\n",
       "      <td>11870946</td>\n",
       "      <td>21256622</td>\n",
       "      <td>87805956</td>\n",
       "      <td>30902104</td>\n",
       "      <td>13777778</td>\n",
       "      <td>4706247</td>\n",
       "      <td>NaN</td>\n",
       "      <td>22117132</td>\n",
       "      <td>...</td>\n",
       "      <td>NaN</td>\n",
       "      <td>NaN</td>\n",
       "      <td>NaN</td>\n",
       "      <td>NaN</td>\n",
       "      <td>NaN</td>\n",
       "      <td>NaN</td>\n",
       "      <td>NaN</td>\n",
       "      <td>NaN</td>\n",
       "      <td>NaN</td>\n",
       "      <td>NaN</td>\n",
       "    </tr>\n",
       "    <tr>\n",
       "      <th>2012-01-05</th>\n",
       "      <td>67483252</td>\n",
       "      <td>52811781</td>\n",
       "      <td>12236065</td>\n",
       "      <td>28979853</td>\n",
       "      <td>193993556</td>\n",
       "      <td>23793149</td>\n",
       "      <td>15781005</td>\n",
       "      <td>4134286</td>\n",
       "      <td>NaN</td>\n",
       "      <td>15813801</td>\n",
       "      <td>...</td>\n",
       "      <td>NaN</td>\n",
       "      <td>NaN</td>\n",
       "      <td>NaN</td>\n",
       "      <td>NaN</td>\n",
       "      <td>NaN</td>\n",
       "      <td>NaN</td>\n",
       "      <td>NaN</td>\n",
       "      <td>NaN</td>\n",
       "      <td>NaN</td>\n",
       "      <td>NaN</td>\n",
       "    </tr>\n",
       "    <tr>\n",
       "      <th>2012-01-06</th>\n",
       "      <td>36813629</td>\n",
       "      <td>54276961</td>\n",
       "      <td>15220242</td>\n",
       "      <td>26744432</td>\n",
       "      <td>108531947</td>\n",
       "      <td>21296283</td>\n",
       "      <td>19087812</td>\n",
       "      <td>3319706</td>\n",
       "      <td>NaN</td>\n",
       "      <td>13501732</td>\n",
       "      <td>...</td>\n",
       "      <td>NaN</td>\n",
       "      <td>NaN</td>\n",
       "      <td>NaN</td>\n",
       "      <td>NaN</td>\n",
       "      <td>NaN</td>\n",
       "      <td>NaN</td>\n",
       "      <td>NaN</td>\n",
       "      <td>NaN</td>\n",
       "      <td>NaN</td>\n",
       "      <td>NaN</td>\n",
       "    </tr>\n",
       "    <tr>\n",
       "      <th>2012-01-09</th>\n",
       "      <td>61140416</td>\n",
       "      <td>84603778</td>\n",
       "      <td>14324636</td>\n",
       "      <td>27570492</td>\n",
       "      <td>0</td>\n",
       "      <td>34850888</td>\n",
       "      <td>21907170</td>\n",
       "      <td>5907932</td>\n",
       "      <td>NaN</td>\n",
       "      <td>30673857</td>\n",
       "      <td>...</td>\n",
       "      <td>NaN</td>\n",
       "      <td>NaN</td>\n",
       "      <td>NaN</td>\n",
       "      <td>NaN</td>\n",
       "      <td>NaN</td>\n",
       "      <td>NaN</td>\n",
       "      <td>NaN</td>\n",
       "      <td>NaN</td>\n",
       "      <td>NaN</td>\n",
       "      <td>NaN</td>\n",
       "    </tr>\n",
       "    <tr>\n",
       "      <th>2012-01-10</th>\n",
       "      <td>0</td>\n",
       "      <td>107797678</td>\n",
       "      <td>24094750</td>\n",
       "      <td>41116077</td>\n",
       "      <td>514638347</td>\n",
       "      <td>78064417</td>\n",
       "      <td>39518447</td>\n",
       "      <td>10008437</td>\n",
       "      <td>NaN</td>\n",
       "      <td>43748688</td>\n",
       "      <td>...</td>\n",
       "      <td>NaN</td>\n",
       "      <td>NaN</td>\n",
       "      <td>NaN</td>\n",
       "      <td>NaN</td>\n",
       "      <td>NaN</td>\n",
       "      <td>NaN</td>\n",
       "      <td>NaN</td>\n",
       "      <td>NaN</td>\n",
       "      <td>NaN</td>\n",
       "      <td>NaN</td>\n",
       "    </tr>\n",
       "  </tbody>\n",
       "</table>\n",
       "<p>5 rows × 1200 columns</p>\n",
       "</div>"
      ],
      "text/plain": [
       "Price         Volume                                                      \\\n",
       "Ticker     000001.SZ  000002.SZ 000063.SZ 000069.SZ  000100.SZ 000157.SZ   \n",
       "Date                                                                       \n",
       "2012-01-04  40894427   47432958  11870946  21256622   87805956  30902104   \n",
       "2012-01-05  67483252   52811781  12236065  28979853  193993556  23793149   \n",
       "2012-01-06  36813629   54276961  15220242  26744432  108531947  21296283   \n",
       "2012-01-09  61140416   84603778  14324636  27570492          0  34850888   \n",
       "2012-01-10         0  107797678  24094750  41116077  514638347  78064417   \n",
       "\n",
       "Price                                               ... Adj Close            \\\n",
       "Ticker     000166.SZ 000301.SZ 000333.SZ 000338.SZ  ... 688187.SS 688223.SS   \n",
       "Date                                                ...                       \n",
       "2012-01-04  13777778   4706247       NaN  22117132  ...       NaN       NaN   \n",
       "2012-01-05  15781005   4134286       NaN  15813801  ...       NaN       NaN   \n",
       "2012-01-06  19087812   3319706       NaN  13501732  ...       NaN       NaN   \n",
       "2012-01-09  21907170   5907932       NaN  30673857  ...       NaN       NaN   \n",
       "2012-01-10  39518447  10008437       NaN  43748688  ...       NaN       NaN   \n",
       "\n",
       "Price                                                                   \\\n",
       "Ticker     688256.SS 688271.SS 688303.SS 688363.SS 688396.SS 688561.SS   \n",
       "Date                                                                     \n",
       "2012-01-04       NaN       NaN       NaN       NaN       NaN       NaN   \n",
       "2012-01-05       NaN       NaN       NaN       NaN       NaN       NaN   \n",
       "2012-01-06       NaN       NaN       NaN       NaN       NaN       NaN   \n",
       "2012-01-09       NaN       NaN       NaN       NaN       NaN       NaN   \n",
       "2012-01-10       NaN       NaN       NaN       NaN       NaN       NaN   \n",
       "\n",
       "Price                           \n",
       "Ticker     688599.SS 688981.SS  \n",
       "Date                            \n",
       "2012-01-04       NaN       NaN  \n",
       "2012-01-05       NaN       NaN  \n",
       "2012-01-06       NaN       NaN  \n",
       "2012-01-09       NaN       NaN  \n",
       "2012-01-10       NaN       NaN  \n",
       "\n",
       "[5 rows x 1200 columns]"
      ]
     },
     "execution_count": 14,
     "metadata": {},
     "output_type": "execute_result"
    }
   ],
   "source": [
    "csi300.head()"
   ]
  },
  {
   "cell_type": "code",
   "execution_count": 15,
   "metadata": {
    "id": "4w0wQP-yWuMB"
   },
   "outputs": [],
   "source": [
    "csi300.to_parquet('../data/raw/csi300.parquet')"
   ]
  },
  {
   "cell_type": "code",
   "execution_count": null,
   "metadata": {
    "id": "wWj8UxXmnSTP"
   },
   "outputs": [],
   "source": []
  }
 ],
 "metadata": {
  "colab": {
   "provenance": []
  },
  "kernelspec": {
   "display_name": "Python 3 (ipykernel)",
   "language": "python",
   "name": "python3"
  },
  "language_info": {
   "codemirror_mode": {
    "name": "ipython",
    "version": 3
   },
   "file_extension": ".py",
   "mimetype": "text/x-python",
   "name": "python",
   "nbconvert_exporter": "python",
   "pygments_lexer": "ipython3",
   "version": "3.10.14"
  }
 },
 "nbformat": 4,
 "nbformat_minor": 4
}
